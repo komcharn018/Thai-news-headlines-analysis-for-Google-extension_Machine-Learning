{
 "cells": [
  {
   "cell_type": "code",
   "execution_count": 126,
   "metadata": {},
   "outputs": [],
   "source": [
    "import re\n",
    "import pandas as pd\n",
    "import numpy as np\n",
    "from pathlib import Path\n",
    "from pythainlp.tokenize import word_tokenize\n",
    "from pythainlp.corpus.common import thai_stopwords\n",
    "from pythainlp.ulmfit import *\n",
    "import matplotlib.font_manager\n",
    "\n",
    "# visualization\n",
    "import seaborn as sns\n",
    "import matplotlib.pyplot as plt\n",
    "from matplotlib import pyplot as plt\n",
    "\n",
    "# params\n",
    "pd.set_option(\"max_colwidth\", 0)\n",
    "sns.set_context(\"talk\")\n",
    "sns.set_palette(sns.color_palette(\"colorblind\", 10))\n",
    "\n",
    "matplotlib.rc(\"font\", family=\"Arial Unicode MS\")\n",
    "\n",
    "%matplotlib inline"
   ]
  },
  {
   "attachments": {},
   "cell_type": "markdown",
   "metadata": {},
   "source": [
    "### Reading Data ###"
   ]
  },
  {
   "cell_type": "code",
   "execution_count": 127,
   "metadata": {},
   "outputs": [
    {
     "data": {
      "text/html": [
       "<div>\n",
       "<style scoped>\n",
       "    .dataframe tbody tr th:only-of-type {\n",
       "        vertical-align: middle;\n",
       "    }\n",
       "\n",
       "    .dataframe tbody tr th {\n",
       "        vertical-align: top;\n",
       "    }\n",
       "\n",
       "    .dataframe thead th {\n",
       "        text-align: right;\n",
       "    }\n",
       "</style>\n",
       "<table border=\"1\" class=\"dataframe\">\n",
       "  <thead>\n",
       "    <tr style=\"text-align: right;\">\n",
       "      <th></th>\n",
       "      <th>category</th>\n",
       "      <th>texts</th>\n",
       "    </tr>\n",
       "  </thead>\n",
       "  <tbody>\n",
       "    <tr>\n",
       "      <th>0</th>\n",
       "      <td>ham</td>\n",
       "      <td>สธ. เปิดตัวรถฟอกไตเคลื่อนที่นวัตกรรมต้นแบบคันแรกของไทย</td>\n",
       "    </tr>\n",
       "    <tr>\n",
       "      <th>1</th>\n",
       "      <td>ham</td>\n",
       "      <td>สธ.เพิ่มศักยภาพโรงพยาบาลธัญญารักษ์ภูมิภาครองรับผู้ป่วยจิตเวชทั่วประเทศ</td>\n",
       "    </tr>\n",
       "    <tr>\n",
       "      <th>2</th>\n",
       "      <td>spam</td>\n",
       "      <td>หุ้นเทรดยักษ์ใหญ่กำไรแน่นเริ่มต้นเทรดเพียง 1000 บาทรับปันผล 30000 ต่อเดือน</td>\n",
       "    </tr>\n",
       "    <tr>\n",
       "      <th>3</th>\n",
       "      <td>spam</td>\n",
       "      <td>กรมการจัดหางาน เปิดโครงการ \"ไม่เลือกงาน ไม่ยากจน\" ให้คนไทยมีรายได้เสริม</td>\n",
       "    </tr>\n",
       "    <tr>\n",
       "      <th>4</th>\n",
       "      <td>spam</td>\n",
       "      <td>เพจ SAO Trading ในเครือของ AOT เปิดให้ลงทุนเริ่มต้น 1,000 บาท</td>\n",
       "    </tr>\n",
       "    <tr>\n",
       "      <th>...</th>\n",
       "      <td>...</td>\n",
       "      <td>...</td>\n",
       "    </tr>\n",
       "    <tr>\n",
       "      <th>2565</th>\n",
       "      <td>spam</td>\n",
       "      <td>เพจเฟซบุ๊กของบริษัทตลาดหลักทรัพย์แห่งประเทศไทยแนะนำการลงทุน</td>\n",
       "    </tr>\n",
       "    <tr>\n",
       "      <th>2566</th>\n",
       "      <td>ham</td>\n",
       "      <td>ครม.อนุมัติค่ารักษาพยาบาลจากเดิม50,000เพิ่มเป็น65,000บาท</td>\n",
       "    </tr>\n",
       "    <tr>\n",
       "      <th>2567</th>\n",
       "      <td>spam</td>\n",
       "      <td>กดCancel2ครั้งก่อนสอดบัตรATMเพื่อป้องกันมิจฉาชีพ</td>\n",
       "    </tr>\n",
       "    <tr>\n",
       "      <th>2568</th>\n",
       "      <td>ham</td>\n",
       "      <td>นอนดึกตื่นเที่ยงในระยะยาวเสี่ยงอันตรายถึงชีวิต</td>\n",
       "    </tr>\n",
       "    <tr>\n",
       "      <th>2569</th>\n",
       "      <td>spam</td>\n",
       "      <td>บริษัทซีพีออลล์จำกัด(มหาชน)เปิดโอกาสให้ลงทุนในกองทุนผู้สูงอายุเริ่มต้น13,000บาทกำไร1-3%ต่อสัปดาห์</td>\n",
       "    </tr>\n",
       "  </tbody>\n",
       "</table>\n",
       "<p>2570 rows × 2 columns</p>\n",
       "</div>"
      ],
      "text/plain": [
       "     category  \\\n",
       "0     ham       \n",
       "1     ham       \n",
       "2     spam      \n",
       "3     spam      \n",
       "4     spam      \n",
       "...    ...      \n",
       "2565  spam      \n",
       "2566  ham       \n",
       "2567  spam      \n",
       "2568  ham       \n",
       "2569  spam      \n",
       "\n",
       "                                                                                                  texts  \n",
       "0     สธ. เปิดตัวรถฟอกไตเคลื่อนที่นวัตกรรมต้นแบบคันแรกของไทย                                             \n",
       "1     สธ.เพิ่มศักยภาพโรงพยาบาลธัญญารักษ์ภูมิภาครองรับผู้ป่วยจิตเวชทั่วประเทศ                             \n",
       "2     หุ้นเทรดยักษ์ใหญ่กำไรแน่นเริ่มต้นเทรดเพียง 1000 บาทรับปันผล 30000 ต่อเดือน                         \n",
       "3     กรมการจัดหางาน เปิดโครงการ \"ไม่เลือกงาน ไม่ยากจน\" ให้คนไทยมีรายได้เสริม                            \n",
       "4     เพจ SAO Trading ในเครือของ AOT เปิดให้ลงทุนเริ่มต้น 1,000 บาท                                      \n",
       "...                                                             ...                                      \n",
       "2565  เพจเฟซบุ๊กของบริษัทตลาดหลักทรัพย์แห่งประเทศไทยแนะนำการลงทุน                                        \n",
       "2566  ครม.อนุมัติค่ารักษาพยาบาลจากเดิม50,000เพิ่มเป็น65,000บาท                                           \n",
       "2567  กดCancel2ครั้งก่อนสอดบัตรATMเพื่อป้องกันมิจฉาชีพ                                                   \n",
       "2568  นอนดึกตื่นเที่ยงในระยะยาวเสี่ยงอันตรายถึงชีวิต                                                     \n",
       "2569  บริษัทซีพีออลล์จำกัด(มหาชน)เปิดโอกาสให้ลงทุนในกองทุนผู้สูงอายุเริ่มต้น13,000บาทกำไร1-3%ต่อสัปดาห์  \n",
       "\n",
       "[2570 rows x 2 columns]"
      ]
     },
     "execution_count": 127,
     "metadata": {},
     "output_type": "execute_result"
    }
   ],
   "source": [
    "# import dataset\n",
    "\n",
    "train_data = pd.read_csv('newsHeadlineDataset.csv')\n",
    "df = pd.DataFrame(train_data)\n",
    "df"
   ]
  },
  {
   "cell_type": "code",
   "execution_count": 128,
   "metadata": {},
   "outputs": [
    {
     "data": {
      "text/plain": [
       "category    0\n",
       "texts       0\n",
       "dtype: int64"
      ]
     },
     "execution_count": 128,
     "metadata": {},
     "output_type": "execute_result"
    }
   ],
   "source": [
    "df.isnull().sum()"
   ]
  },
  {
   "cell_type": "code",
   "execution_count": 129,
   "metadata": {},
   "outputs": [
    {
     "data": {
      "text/html": [
       "<div>\n",
       "<style scoped>\n",
       "    .dataframe tbody tr th:only-of-type {\n",
       "        vertical-align: middle;\n",
       "    }\n",
       "\n",
       "    .dataframe tbody tr th {\n",
       "        vertical-align: top;\n",
       "    }\n",
       "\n",
       "    .dataframe thead th {\n",
       "        text-align: right;\n",
       "    }\n",
       "</style>\n",
       "<table border=\"1\" class=\"dataframe\">\n",
       "  <thead>\n",
       "    <tr style=\"text-align: right;\">\n",
       "      <th></th>\n",
       "      <th>category</th>\n",
       "      <th>texts</th>\n",
       "    </tr>\n",
       "  </thead>\n",
       "  <tbody>\n",
       "    <tr>\n",
       "      <th>count</th>\n",
       "      <td>2570</td>\n",
       "      <td>2570</td>\n",
       "    </tr>\n",
       "    <tr>\n",
       "      <th>unique</th>\n",
       "      <td>2</td>\n",
       "      <td>2570</td>\n",
       "    </tr>\n",
       "    <tr>\n",
       "      <th>top</th>\n",
       "      <td>ham</td>\n",
       "      <td>สธ. เปิดตัวรถฟอกไตเคลื่อนที่นวัตกรรมต้นแบบคันแรกของไทย</td>\n",
       "    </tr>\n",
       "    <tr>\n",
       "      <th>freq</th>\n",
       "      <td>1285</td>\n",
       "      <td>1</td>\n",
       "    </tr>\n",
       "  </tbody>\n",
       "</table>\n",
       "</div>"
      ],
      "text/plain": [
       "       category                                                   texts\n",
       "count   2570     2570                                                  \n",
       "unique  2        2570                                                  \n",
       "top     ham      สธ. เปิดตัวรถฟอกไตเคลื่อนที่นวัตกรรมต้นแบบคันแรกของไทย\n",
       "freq    1285     1                                                     "
      ]
     },
     "execution_count": 129,
     "metadata": {},
     "output_type": "execute_result"
    }
   ],
   "source": [
    "df.describe()"
   ]
  },
  {
   "cell_type": "code",
   "execution_count": 130,
   "metadata": {},
   "outputs": [
    {
     "data": {
      "text/html": [
       "<div>\n",
       "<style scoped>\n",
       "    .dataframe tbody tr th:only-of-type {\n",
       "        vertical-align: middle;\n",
       "    }\n",
       "\n",
       "    .dataframe tbody tr th {\n",
       "        vertical-align: top;\n",
       "    }\n",
       "\n",
       "    .dataframe thead th {\n",
       "        text-align: right;\n",
       "    }\n",
       "</style>\n",
       "<table border=\"1\" class=\"dataframe\">\n",
       "  <thead>\n",
       "    <tr style=\"text-align: right;\">\n",
       "      <th></th>\n",
       "      <th>category</th>\n",
       "      <th>texts</th>\n",
       "    </tr>\n",
       "  </thead>\n",
       "  <tbody>\n",
       "  </tbody>\n",
       "</table>\n",
       "</div>"
      ],
      "text/plain": [
       "Empty DataFrame\n",
       "Columns: [category, texts]\n",
       "Index: []"
      ]
     },
     "execution_count": 130,
     "metadata": {},
     "output_type": "execute_result"
    }
   ],
   "source": [
    "df[df.duplicated()]"
   ]
  },
  {
   "cell_type": "code",
   "execution_count": 131,
   "metadata": {},
   "outputs": [
    {
     "data": {
      "text/html": [
       "<div>\n",
       "<style scoped>\n",
       "    .dataframe tbody tr th:only-of-type {\n",
       "        vertical-align: middle;\n",
       "    }\n",
       "\n",
       "    .dataframe tbody tr th {\n",
       "        vertical-align: top;\n",
       "    }\n",
       "\n",
       "    .dataframe thead tr th {\n",
       "        text-align: left;\n",
       "    }\n",
       "\n",
       "    .dataframe thead tr:last-of-type th {\n",
       "        text-align: right;\n",
       "    }\n",
       "</style>\n",
       "<table border=\"1\" class=\"dataframe\">\n",
       "  <thead>\n",
       "    <tr>\n",
       "      <th></th>\n",
       "      <th colspan=\"4\" halign=\"left\">texts</th>\n",
       "    </tr>\n",
       "    <tr>\n",
       "      <th></th>\n",
       "      <th>count</th>\n",
       "      <th>unique</th>\n",
       "      <th>top</th>\n",
       "      <th>freq</th>\n",
       "    </tr>\n",
       "    <tr>\n",
       "      <th>category</th>\n",
       "      <th></th>\n",
       "      <th></th>\n",
       "      <th></th>\n",
       "      <th></th>\n",
       "    </tr>\n",
       "  </thead>\n",
       "  <tbody>\n",
       "    <tr>\n",
       "      <th>ham</th>\n",
       "      <td>1285</td>\n",
       "      <td>1285</td>\n",
       "      <td>สธ. เปิดตัวรถฟอกไตเคลื่อนที่นวัตกรรมต้นแบบคันแรกของไทย</td>\n",
       "      <td>1</td>\n",
       "    </tr>\n",
       "    <tr>\n",
       "      <th>spam</th>\n",
       "      <td>1285</td>\n",
       "      <td>1285</td>\n",
       "      <td>หุ้นเทรดยักษ์ใหญ่กำไรแน่นเริ่มต้นเทรดเพียง 1000 บาทรับปันผล 30000 ต่อเดือน</td>\n",
       "      <td>1</td>\n",
       "    </tr>\n",
       "  </tbody>\n",
       "</table>\n",
       "</div>"
      ],
      "text/plain": [
       "         texts         \\\n",
       "         count unique   \n",
       "category                \n",
       "ham       1285  1285    \n",
       "spam      1285  1285    \n",
       "\n",
       "                                                                                      \\\n",
       "                                                                                 top   \n",
       "category                                                                               \n",
       "ham       สธ. เปิดตัวรถฟอกไตเคลื่อนที่นวัตกรรมต้นแบบคันแรกของไทย                       \n",
       "spam      หุ้นเทรดยักษ์ใหญ่กำไรแน่นเริ่มต้นเทรดเพียง 1000 บาทรับปันผล 30000 ต่อเดือน   \n",
       "\n",
       "               \n",
       "         freq  \n",
       "category       \n",
       "ham       1    \n",
       "spam      1    "
      ]
     },
     "execution_count": 131,
     "metadata": {},
     "output_type": "execute_result"
    }
   ],
   "source": [
    "df.groupby(\"category\").describe()"
   ]
  },
  {
   "cell_type": "code",
   "execution_count": 132,
   "metadata": {},
   "outputs": [
    {
     "data": {
      "image/png": "[encoded data removed]",
      "text/plain": [
       "<Figure size 1000x500 with 1 Axes>"
      ]
     },
     "metadata": {},
     "output_type": "display_data"
    }
   ],
   "source": [
    "row_count_by_category = df.category.value_counts()\n",
    "ax = row_count_by_category.plot(kind='bar', title=\"Category\", figsize=(10, 5))\n",
    "ax.set_ylim(0, 1500)\n",
    "for i, label in enumerate(row_count_by_category):\n",
    "    ax.annotate(str(label), (i-0.1, label + 500))"
   ]
  },
  {
   "attachments": {},
   "cell_type": "markdown",
   "metadata": {},
   "source": [
    "### TF-IDF visualization ###"
   ]
  },
  {
   "cell_type": "code",
   "execution_count": 133,
   "metadata": {},
   "outputs": [],
   "source": [
    "def top_feats(row, features, top_n=25):\n",
    "    ''' Get top n tfidf values in row and return them with their corresponding feature names.'''\n",
    "\n",
    "    topn_ids = np.argsort(row)[::-1][:top_n]\n",
    "    top_feats = [(features[i], row[i]) for i in topn_ids]\n",
    "    df = pd.DataFrame(top_feats)\n",
    "    df.columns = [\"feature\", \"score\"]\n",
    "\n",
    "    return df"
   ]
  },
  {
   "cell_type": "code",
   "execution_count": 134,
   "metadata": {},
   "outputs": [],
   "source": [
    "def top_mean_feats(Xtr, features, grp_ids=None, min_tfidf=0.1, top_n=25):\n",
    "    ''' Return the top n features that on average are most important amongst documents in rows\n",
    "        indentified by indices in grp_ids. '''\n",
    "\n",
    "    if grp_ids:\n",
    "        D = Xtr[grp_ids].toarray()\n",
    "    else:\n",
    "        D = Xtr.toarray()\n",
    "\n",
    "    D[D < min_tfidf] = 0\n",
    "    tfidf_means = np.mean(D, axis=0)\n",
    "\n",
    "    return top_feats(tfidf_means, features, top_n)"
   ]
  },
  {
   "cell_type": "code",
   "execution_count": 135,
   "metadata": {},
   "outputs": [],
   "source": [
    "def top_feats_by_class(Xtr, y, features, min_tfidf=0.1, top_n=25):\n",
    "    ''' Return a list of dfs, where each df holds top_n features and their mean tfidf value\n",
    "        calculated across documents with the same class label. '''\n",
    "\n",
    "    dfs = []\n",
    "    labels = np.unique(y)\n",
    "\n",
    "    for label in labels:\n",
    "        ids = np.where(y==label)\n",
    "        feats_df = top_mean_feats(Xtr, features, ids, min_tfidf=min_tfidf, top_n=top_n)\n",
    "        feats_df.label = label\n",
    "        dfs.append(feats_df)\n",
    "\n",
    "    return dfs"
   ]
  },
  {
   "cell_type": "code",
   "execution_count": 136,
   "metadata": {},
   "outputs": [],
   "source": [
    "def plot_classfeats_h(dfs, score_name=''):\n",
    "    ''' Plot the data frames returned by the function plot_tfidf_classfeats(). '''\n",
    "\n",
    "    fig = plt.figure(figsize=(12, 9), facecolor=\"w\")\n",
    "    x = np.arange(len(dfs[0]))\n",
    "\n",
    "    for i, df in enumerate(dfs):\n",
    "        ax = fig.add_subplot(1, len(dfs), i+1)\n",
    "        ax.spines[\"top\"].set_visible(False)\n",
    "        ax.spines[\"right\"].set_visible(False)\n",
    "        ax.set_frame_on(False)\n",
    "        ax.get_xaxis().tick_bottom()\n",
    "        ax.get_yaxis().tick_left()\n",
    "        ax.set_xlabel(f\"Mean {score_name} Score\", labelpad=16, fontsize=14)\n",
    "        ax.set_title(\"label = \" + str(df.label), fontsize=16)\n",
    "        ax.ticklabel_format(axis='x', style='sci', scilimits=(-2,2))\n",
    "        ax.barh(x, df.score, align='center', color='#3F5D7D')\n",
    "        ax.set_yticks(x)\n",
    "        ax.set_ylim([-1, x[-1]+1])\n",
    "        ax.invert_yaxis()\n",
    "        yticks = ax.set_yticklabels(df.feature)\n",
    "        plt.subplots_adjust(bottom=0.09, right=0.97, left=0.15, top=0.95, wspace=0.52)\n",
    "\n",
    "    plt.show()"
   ]
  },
  {
   "cell_type": "code",
   "execution_count": 137,
   "metadata": {},
   "outputs": [],
   "source": [
    "def show_classfeats(df, vectorizer, analyzer, score_name='', text_col='texts', class_col='category', is_emoji=False):\n",
    "    vec = vectorizer(analyzer=analyzer)\n",
    "    mat = vec.fit_transform(df[text_col])\n",
    "    dfs = top_feats_by_class(mat, df[class_col], vec.get_feature_names())\n",
    "\n",
    "    if is_emoji:\n",
    "        for dataframe in dfs:\n",
    "            dataframe.columns = [dataframe.label, 'tfidf_' + dataframe.label]\n",
    "        return pd.concat(dfs, axis=1)\n",
    "    else:\n",
    "        plot_classfeats_h(dfs, score_name=score_name)"
   ]
  },
  {
   "cell_type": "code",
   "execution_count": 138,
   "metadata": {},
   "outputs": [],
   "source": [
    "import string\n",
    "import emoji\n",
    "import numpy as np\n",
    "\n",
    "from sklearn.feature_extraction.text import TfidfVectorizer\n",
    "\n",
    "def process_text(text):\n",
    "    nopunc = [char for char in text if char not in string.punctuation]\n",
    "    nopunc = \"\".join(nopunc)\n",
    "    \n",
    "    return [word for word in word_tokenize(nopunc) if word and not re.search(pattern=r\"\\s+\", string=word)]\n",
    "\n",
    "def extract_url(text):\n",
    "    URL_PATTERN = r\"(https?:\\/\\/)?\\.([\\da-z-]+)\\.([a-z\\.]{2,6})([\\/\\w\\.-]*)*\\/?\\S\"\n",
    "    return [url[1] for url in re.findall(pattern=URL_PATTERN, string=text.lower())]\n",
    "\n",
    "def extract_emojis(str):\n",
    "    return [c for c in str if c in emoji.UNICODE_EMOJI]\n",
    "\n",
    "def extract_punc(text):\n",
    "    return [char for char in text if char in string.punctuation]\n",
    "\n",
    "def extract_hashtags(text):\n",
    "    HASHTAG_PATTERN = r\"#[a-zA-Z0-9ก-๙]+\"\n",
    "    return re.findall(pattern=HASHTAG_PATTERN, string=text)"
   ]
  },
  {
   "cell_type": "code",
   "execution_count": 139,
   "metadata": {},
   "outputs": [
    {
     "name": "stderr",
     "output_type": "stream",
     "text": [
      "/Users/komcharnnitrat/opt/anaconda3/lib/python3.9/site-packages/sklearn/utils/deprecation.py:87: FutureWarning: Function get_feature_names is deprecated; get_feature_names is deprecated in 1.0 and will be removed in 1.2. Please use get_feature_names_out instead.\n",
      "  warnings.warn(msg, category=FutureWarning)\n"
     ]
    },
    {
     "data": {
      "image/png": "[encoded data removed]",
      "text/plain": [
       "<Figure size 1200x900 with 2 Axes>"
      ]
     },
     "metadata": {},
     "output_type": "display_data"
    }
   ],
   "source": [
    "show_classfeats(\n",
    "    df=df[:2640],\n",
    "    vectorizer=TfidfVectorizer,\n",
    "    analyzer=process_text,\n",
    "    score_name=\"tf-idf\",\n",
    ")"
   ]
  },
  {
   "cell_type": "code",
   "execution_count": 140,
   "metadata": {},
   "outputs": [
    {
     "name": "stderr",
     "output_type": "stream",
     "text": [
      "/Users/komcharnnitrat/opt/anaconda3/lib/python3.9/site-packages/sklearn/utils/deprecation.py:87: FutureWarning: Function get_feature_names is deprecated; get_feature_names is deprecated in 1.0 and will be removed in 1.2. Please use get_feature_names_out instead.\n",
      "  warnings.warn(msg, category=FutureWarning)\n"
     ]
    },
    {
     "data": {
      "image/png": "[encoded data removed]",
      "text/plain": [
       "<Figure size 1200x900 with 2 Axes>"
      ]
     },
     "metadata": {},
     "output_type": "display_data"
    }
   ],
   "source": [
    "# Punctuation\n",
    "\n",
    "show_classfeats(df=df, vectorizer=TfidfVectorizer, score_name=\"tf-idf\", analyzer=extract_punc)"
   ]
  },
  {
   "cell_type": "code",
   "execution_count": 141,
   "metadata": {},
   "outputs": [
    {
     "data": {
      "text/html": [
       "<div>\n",
       "<style scoped>\n",
       "    .dataframe tbody tr th:only-of-type {\n",
       "        vertical-align: middle;\n",
       "    }\n",
       "\n",
       "    .dataframe tbody tr th {\n",
       "        vertical-align: top;\n",
       "    }\n",
       "\n",
       "    .dataframe thead th {\n",
       "        text-align: right;\n",
       "    }\n",
       "</style>\n",
       "<table border=\"1\" class=\"dataframe\">\n",
       "  <thead>\n",
       "    <tr style=\"text-align: right;\">\n",
       "      <th></th>\n",
       "      <th>category</th>\n",
       "      <th>texts</th>\n",
       "    </tr>\n",
       "  </thead>\n",
       "  <tbody>\n",
       "    <tr>\n",
       "      <th>0</th>\n",
       "      <td>ham</td>\n",
       "      <td>สธ. เปิดตัวรถฟอกไตเคลื่อนที่นวัตกรรมต้นแบบคันแรกของไทย</td>\n",
       "    </tr>\n",
       "    <tr>\n",
       "      <th>1</th>\n",
       "      <td>ham</td>\n",
       "      <td>สธ.เพิ่มศักยภาพโรงพยาบาลธัญญารักษ์ภูมิภาครองรับผู้ป่วยจิตเวชทั่วประเทศ</td>\n",
       "    </tr>\n",
       "    <tr>\n",
       "      <th>2</th>\n",
       "      <td>spam</td>\n",
       "      <td>หุ้นเทรดยักษ์ใหญ่กำไรแน่นเริ่มต้นเทรดเพียง 1000 บาทรับปันผล 30000 ต่อเดือน</td>\n",
       "    </tr>\n",
       "    <tr>\n",
       "      <th>3</th>\n",
       "      <td>spam</td>\n",
       "      <td>กรมการจัดหางาน เปิดโครงการ \"ไม่เลือกงาน ไม่ยากจน\" ให้คนไทยมีรายได้เสริม</td>\n",
       "    </tr>\n",
       "    <tr>\n",
       "      <th>4</th>\n",
       "      <td>spam</td>\n",
       "      <td>เพจ SAO Trading ในเครือของ AOT เปิดให้ลงทุนเริ่มต้น 1,000 บาท</td>\n",
       "    </tr>\n",
       "    <tr>\n",
       "      <th>...</th>\n",
       "      <td>...</td>\n",
       "      <td>...</td>\n",
       "    </tr>\n",
       "    <tr>\n",
       "      <th>2565</th>\n",
       "      <td>spam</td>\n",
       "      <td>เพจเฟซบุ๊กของบริษัทตลาดหลักทรัพย์แห่งประเทศไทยแนะนำการลงทุน</td>\n",
       "    </tr>\n",
       "    <tr>\n",
       "      <th>2566</th>\n",
       "      <td>ham</td>\n",
       "      <td>ครม.อนุมัติค่ารักษาพยาบาลจากเดิม50,000เพิ่มเป็น65,000บาท</td>\n",
       "    </tr>\n",
       "    <tr>\n",
       "      <th>2567</th>\n",
       "      <td>spam</td>\n",
       "      <td>กดCancel2ครั้งก่อนสอดบัตรATMเพื่อป้องกันมิจฉาชีพ</td>\n",
       "    </tr>\n",
       "    <tr>\n",
       "      <th>2568</th>\n",
       "      <td>ham</td>\n",
       "      <td>นอนดึกตื่นเที่ยงในระยะยาวเสี่ยงอันตรายถึงชีวิต</td>\n",
       "    </tr>\n",
       "    <tr>\n",
       "      <th>2569</th>\n",
       "      <td>spam</td>\n",
       "      <td>บริษัทซีพีออลล์จำกัด(มหาชน)เปิดโอกาสให้ลงทุนในกองทุนผู้สูงอายุเริ่มต้น13,000บาทกำไร1-3%ต่อสัปดาห์</td>\n",
       "    </tr>\n",
       "  </tbody>\n",
       "</table>\n",
       "<p>2570 rows × 2 columns</p>\n",
       "</div>"
      ],
      "text/plain": [
       "     category  \\\n",
       "0     ham       \n",
       "1     ham       \n",
       "2     spam      \n",
       "3     spam      \n",
       "4     spam      \n",
       "...    ...      \n",
       "2565  spam      \n",
       "2566  ham       \n",
       "2567  spam      \n",
       "2568  ham       \n",
       "2569  spam      \n",
       "\n",
       "                                                                                                  texts  \n",
       "0     สธ. เปิดตัวรถฟอกไตเคลื่อนที่นวัตกรรมต้นแบบคันแรกของไทย                                             \n",
       "1     สธ.เพิ่มศักยภาพโรงพยาบาลธัญญารักษ์ภูมิภาครองรับผู้ป่วยจิตเวชทั่วประเทศ                             \n",
       "2     หุ้นเทรดยักษ์ใหญ่กำไรแน่นเริ่มต้นเทรดเพียง 1000 บาทรับปันผล 30000 ต่อเดือน                         \n",
       "3     กรมการจัดหางาน เปิดโครงการ \"ไม่เลือกงาน ไม่ยากจน\" ให้คนไทยมีรายได้เสริม                            \n",
       "4     เพจ SAO Trading ในเครือของ AOT เปิดให้ลงทุนเริ่มต้น 1,000 บาท                                      \n",
       "...                                                             ...                                      \n",
       "2565  เพจเฟซบุ๊กของบริษัทตลาดหลักทรัพย์แห่งประเทศไทยแนะนำการลงทุน                                        \n",
       "2566  ครม.อนุมัติค่ารักษาพยาบาลจากเดิม50,000เพิ่มเป็น65,000บาท                                           \n",
       "2567  กดCancel2ครั้งก่อนสอดบัตรATMเพื่อป้องกันมิจฉาชีพ                                                   \n",
       "2568  นอนดึกตื่นเที่ยงในระยะยาวเสี่ยงอันตรายถึงชีวิต                                                     \n",
       "2569  บริษัทซีพีออลล์จำกัด(มหาชน)เปิดโอกาสให้ลงทุนในกองทุนผู้สูงอายุเริ่มต้น13,000บาทกำไร1-3%ต่อสัปดาห์  \n",
       "\n",
       "[2570 rows x 2 columns]"
      ]
     },
     "execution_count": 141,
     "metadata": {},
     "output_type": "execute_result"
    }
   ],
   "source": [
    "# Create new dataframe\n",
    "\n",
    "sentiment_df = df\n",
    "sentiment_df"
   ]
  },
  {
   "attachments": {},
   "cell_type": "markdown",
   "metadata": {},
   "source": [
    "### Tokenize text ###"
   ]
  },
  {
   "cell_type": "code",
   "execution_count": 142,
   "metadata": {},
   "outputs": [
    {
     "data": {
      "text/plain": [
       "0       สธ . เปิดตัว รถ ฟอก ไต เคลื่อนที่ นวัตกรรม ต้นแบบ คัน แรก ของ ไทย                                    \n",
       "1       สธ . เพิ่ม ศักยภาพ โรงพยาบาล ธัญ ญา รักษ์ ภูมิภาค รองรับ ผู้ป่วย จิตเวช ทั่วประเทศ                   \n",
       "2       หุ้น เทรด ยักษ์ ใหญ่ กำไร แน่น เริ่มต้น เทรด เพียง บาท รับ ปันผล ต่อ เดือน                           \n",
       "3       กรมการจัดหางาน เปิด โครงการ ไม่ เลือก งาน ไม่ ยากจน ให้ คนไทย มี รายได้ เสริม                        \n",
       "4       เพจ sao trading ในเครือ ของ aot เปิด ให้ ลงทุน เริ่มต้น บาท                                          \n",
       "                                   ...                                                                       \n",
       "2565    เพจ เฟซบุ๊ก ของ บริษัท ตลาดหลักทรัพย์ แห่ง ประเทศ ไทย แนะนำ การลงทุน                                 \n",
       "2566    ครม. อนุมัติ ค่ารักษาพยาบาล จาก เดิม เพิ่ม เป็น บาท                                                  \n",
       "2567    กด cancel ครั้งก่อน สอด บัตร atm เพื่อ ป้องกัน มิจฉาชีพ                                              \n",
       "2568    นอน ดึก ตื่น เที่ยง ใน ระยะยาว เสี่ยงอันตราย ถึงชีวิต                                                \n",
       "2569    บริษัท ซี พี ออลล์ จำกัด มหาชน เปิดโอกาส ให้ ลงทุน ใน กองทุน ผู้สูงอายุ เริ่มต้น บาท กำไร ต่อ สัปดาห์\n",
       "Name: texts, Length: 2570, dtype: object"
      ]
     },
     "execution_count": 142,
     "metadata": {},
     "output_type": "execute_result"
    }
   ],
   "source": [
    "def preprocess_thai_text(texts):\n",
    "    # Tokenization\n",
    "    tokens = word_tokenize(texts)\n",
    "    \n",
    "    # Stopword removal\n",
    "    filtered_tokens = [word for word in tokens if word not in thai_stopwords()]\n",
    "    \n",
    "    # Join the tokens back into a clean text\n",
    "    clean_text = \" \".join(filtered_tokens)\n",
    "    \n",
    "    return clean_text\n",
    "\n",
    "punc = '''!()-[]{};:'\"\\,<>/?@#$%^&*_~'''\n",
    "\n",
    "def remove_punc(text):\n",
    "    clean_text = text.lower()\n",
    "    \n",
    "    for text in punc:\n",
    "        if text in string.punctuation:\n",
    "            clean_text = clean_text.replace(text, \"\")\n",
    "    return clean_text\n",
    "\n",
    "def remove_whitespace(text):\n",
    "    cleaned_text = ' '.join(text.split())\n",
    "    return cleaned_text.lower()\n",
    "\n",
    "def remove_numbers(text):\n",
    "    cleaned_text = re.sub(r'\\d+', '', text)\n",
    "    return cleaned_text\n",
    "\n",
    "\n",
    "sentiment_df['texts'] = sentiment_df.texts.map(lambda x: \" \".join(word_tokenize(x)))\n",
    "sentiment_df['texts'] = sentiment_df['texts'].apply(remove_punc)\n",
    "sentiment_df['texts'] = sentiment_df['texts'].apply(remove_numbers)\n",
    "sentiment_df['texts'] = sentiment_df['texts'].apply(remove_whitespace)\n",
    "sentiment_df['texts']"
   ]
  },
  {
   "attachments": {},
   "cell_type": "markdown",
   "metadata": {},
   "source": [
    "### Train-Test split ###"
   ]
  },
  {
   "cell_type": "code",
   "execution_count": 143,
   "metadata": {},
   "outputs": [],
   "source": [
    "class_names = np.unique(sentiment_df.category).tolist()\n",
    "\n",
    "X = sentiment_df[\"texts\"]\n",
    "y = sentiment_df[\"category\"]\n",
    "\n",
    "from sklearn.model_selection import train_test_split\n",
    "X_train, X_test, y_train, y_test = train_test_split(X, y, test_size=0.20, random_state=42, stratify=y)"
   ]
  },
  {
   "cell_type": "code",
   "execution_count": 144,
   "metadata": {},
   "outputs": [
    {
     "data": {
      "text/plain": [
       "1920    โครงการ ตำรวจน้ำ สอน น้อง ว่ายน้ำ สอน เด็ก อายุ – ปี ฟรี ทั่วประเทศ                                  \n",
       "1249    บริษัทหลักทรัพย์ แห่ง หนึ่ง ร่วมกับ ก.ล.ต. ชวน เป็น หุ้นส่วน บาท ปัน ผลกำไร ต่อ วัน                  \n",
       "534     อึ้ง ปี ย้อนหลัง ปี ไทย นำเข้า ขยะ พลาสติก เพิ่ม                                                     \n",
       "2443    ตลาดหลักทรัพย์ ฯ ร่วมกับ ธุรกิจ สถานี ไฟฟ้า ในเครือ ปตท. เปิด ลงทุน เริ่มต้น เพียง บาท               \n",
       "1286    แผ่น อะลูมิเนียม ฟอยล์ เตรียม อาหาร ที่ ปรุง ด้วย ความร้อน ก่อให้เกิด โรค อัลไซเมอร์                 \n",
       "                                                ...                                                          \n",
       "1435    น้ำยาบ้วนปาก กานพลู สกัด ขจัด กลิ่น ปาก ปวดฟัน อาการ เสียวฟัน ได้                                    \n",
       "2523    ออมสิน เปิด ลงทะเบียน กู้เงิน บาท ดอกเบี้ย ลด ต้น ลด ดอก                                             \n",
       "1823    กรุงไทย ปล่อย กู้เงิน ฉุกเฉิน วงเงิน สูงสุด บาท ผ่อน จ่าย เดือน ผ่าน ไลน์                            \n",
       "1303    พายุ ซาว ลา จะ ก่อตัว ใน ทะเล จีน ใต้ ตอน บน มีโอกาส ทะลุ เข้า ภาคเหนือ ตอน บน สูง มาก ใน วันที่ ส.ค.\n",
       "2331    การ โกหก บ่อยๆ ส่ง ผลเสีย ต่อ สมอง โกหก มาก สมอง ส่วน amygdala ยิ่ง ทำงาน น้อยลง                     \n",
       "Name: texts, Length: 514, dtype: object"
      ]
     },
     "execution_count": 144,
     "metadata": {},
     "output_type": "execute_result"
    }
   ],
   "source": [
    "X_test"
   ]
  },
  {
   "cell_type": "code",
   "execution_count": 145,
   "metadata": {},
   "outputs": [
    {
     "data": {
      "text/plain": [
       "1920    ham \n",
       "1249    spam\n",
       "534     spam\n",
       "2443    spam\n",
       "1286    spam\n",
       "        ... \n",
       "1435    spam\n",
       "2523    spam\n",
       "1823    spam\n",
       "1303    spam\n",
       "2331    spam\n",
       "Name: category, Length: 514, dtype: object"
      ]
     },
     "execution_count": 145,
     "metadata": {},
     "output_type": "execute_result"
    }
   ],
   "source": [
    "y_test"
   ]
  },
  {
   "attachments": {},
   "cell_type": "markdown",
   "metadata": {},
   "source": [
    "### *SVM(sigmoid)* ###"
   ]
  },
  {
   "cell_type": "code",
   "execution_count": 146,
   "metadata": {},
   "outputs": [
    {
     "name": "stdout",
     "output_type": "stream",
     "text": [
      "CPU times: user 2.14 s, sys: 3.55 ms, total: 2.14 s\n",
      "Wall time: 2.15 s\n",
      "Accuracy:  0.9085603112840467\n"
     ]
    }
   ],
   "source": [
    "from typing import Any\n",
    "from sklearn.pipeline import make_pipeline\n",
    "from sklearn.feature_extraction.text import CountVectorizer, TfidfTransformer\n",
    "from sklearn.preprocessing import StandardScaler, MaxAbsScaler\n",
    "from sklearn.svm import SVC\n",
    "\n",
    "def dummy(obj: Any) -> Any:\n",
    "    return obj\n",
    "\n",
    "SVM_clf = make_pipeline(\n",
    "    CountVectorizer(preprocessor=process_text, tokenizer=dummy, lowercase=False, ngram_range = (1, 2)),\n",
    "    TfidfTransformer(norm='l2'),\n",
    "    StandardScaler(with_mean=False),\n",
    "    MaxAbsScaler(),\n",
    "    SVC(kernel = 'sigmoid', C=1, class_weight=None, probability=True)\n",
    ")\n",
    "\n",
    "%time SVM_clf.fit(X_train, y_train)\n",
    "\n",
    "SVM_clf.predict(X_test)\n",
    "score = SVM_clf.score(X_test, y_test)\n",
    "\n",
    "print(\"Accuracy: \", score)"
   ]
  },
  {
   "cell_type": "code",
   "execution_count": 147,
   "metadata": {},
   "outputs": [
    {
     "name": "stdout",
     "output_type": "stream",
     "text": [
      "\n",
      "Testing:\n",
      "\n",
      "[[240  17]\n",
      " [ 30 227]]\n",
      "              precision    recall  f1-score   support\n",
      "\n",
      "         ham       0.89      0.93      0.91       257\n",
      "        spam       0.93      0.88      0.91       257\n",
      "\n",
      "    accuracy                           0.91       514\n",
      "   macro avg       0.91      0.91      0.91       514\n",
      "weighted avg       0.91      0.91      0.91       514\n",
      "\n",
      "AUC score:  0.9538978637072477\n"
     ]
    }
   ],
   "source": [
    "from sklearn.metrics import confusion_matrix\n",
    "from sklearn.metrics import classification_report\n",
    "from sklearn import metrics\n",
    "from sklearn.metrics import roc_auc_score\n",
    "\n",
    "print()\n",
    "print(\"Testing:\\n\")\n",
    "\n",
    "ypred_test = SVM_clf.predict(X_test)\n",
    "mat_clf = confusion_matrix(y_test, ypred_test)\n",
    "report_clf = classification_report(y_test, ypred_test)\n",
    "\n",
    "# Confusion matrix\n",
    "clf_matrix = metrics.confusion_matrix(y_test, ypred_test)\n",
    "\n",
    "print(mat_clf)\n",
    "print(report_clf)\n",
    "\n",
    "y_pred_proba = SVM_clf.predict_proba(X_test)[::,1]\n",
    "auc = metrics.roc_auc_score(y_test, y_pred_proba)\n",
    "\n",
    "print(\"AUC score: \", auc)"
   ]
  },
  {
   "cell_type": "code",
   "execution_count": 148,
   "metadata": {},
   "outputs": [],
   "source": [
    "y_test_rep = y_test\n",
    "ypred_test_rep = ypred_test\n",
    "\n",
    "mapping = {\"ham\": 0, \"spam\": 1}\n",
    "y_test_rep = [mapping[label] for label in y_test]\n",
    "ypred_test_rep = [mapping[label] for label in ypred_test]"
   ]
  },
  {
   "cell_type": "code",
   "execution_count": 149,
   "metadata": {},
   "outputs": [
    {
     "name": "stdout",
     "output_type": "stream",
     "text": [
      "F1-score:  0.906187624750499\n"
     ]
    }
   ],
   "source": [
    "from sklearn.metrics import f1_score\n",
    "\n",
    "print(\"F1-score: \", f1_score(y_test_rep, ypred_test_rep))"
   ]
  },
  {
   "cell_type": "code",
   "execution_count": 150,
   "metadata": {},
   "outputs": [
    {
     "name": "stdout",
     "output_type": "stream",
     "text": [
      "Output: ['ham' 'spam' 'ham' 'ham' 'ham' 'spam' 'spam' 'spam' 'spam' 'spam']  =>  Counter({'spam': 6, 'ham': 4})\n"
     ]
    }
   ],
   "source": [
    "from collections import Counter\n",
    "\n",
    "predict_msg = [\"รองต่อ รุดที่เกิดเหตุหลัง ผกก.ทล. เครียดกรณี สว.แบงค์ ก่อนยิงตัวตาย\",\n",
    "               \"วงจรปิดชัด หน่อง ท่าผา ขับรถมาคันเดียว เลี้ยวเข้าซอยก่อนโดนวิสามัญ\",\n",
    "               \"ผกก.สน.พญาไท โดนหางเลข ร่วมงานเลี้ยงบ้าน กำนันนก น.1 สั่งตั้ง กก.สอบ\",\n",
    "               \"อนุทิน ชมฝ่ายค้านมีสปิริตอภิปราย ไม่ไล่บี้รัฐบาล ยังอุบชื่อรองโฆษกฯ\",\n",
    "               \"นายกฯ เตือน โตๆ กันแล้ว จ่อคุยเยอรมนี ปมเครื่องยนต์เรือดำน้ำ “โรม” ประท้วงเสียดสี\",\n",
    "               \"ตลาดหลักทรัพย์ฯร่วมกับบริษัทมหาชนที่ดำเนินธุรกิจด้านการลงทุนและพัฒนาอสังหาริมทรัพย์เปิดให้ซื้อกองทุนวัยเกษียณ10,000บาทปันผล10-12%\",\n",
    "               \"ลงทุนในสินทรัพย์Top10ของโลกเริ่มต้น1,000บาทภายใต้การควบคุมของตลาดหลักทรัพย์แห่งประเทศไทย\",\n",
    "               \"ชวนลงทุนกองทุนทองคำคุณภาพเริ่มพอร์ต1,000บาทเปิดพอร์ตวันนี้รับทองคำน้ำหนัก2.5กรัม\",\n",
    "               \"เพจเฟซบุ๊กเปิดขายSET50กองทุนรวมทองคำไทยราคาเปิดพอร์ต999บาทและ3999บาทความเสี่ยงต่ำลงทุนครั้งเดียวปันผลไม่หมดอายุ\",\n",
    "               \"วิธีรักษามะเร็งให้หายได้ไม่ให้ทำคีโมแต่ให้กำหนดลมหายใจตัวเองและกินอาหารที่ไม่เป็นกรด\"               \n",
    "               ]\n",
    "\n",
    "# Defining prediction function\n",
    "def predict_spam(predict_msg):\n",
    "    TfidfVectorizer(preprocessor=dummy, tokenizer=dummy),\n",
    "    TfidfTransformer(),\n",
    "    word_tokenize(predict_msg, engine=\"newmm\"),\n",
    "    return (SVM_clf.predict(predict_msg))\n",
    "predict_spam(predict_msg)\n",
    "\n",
    "summary = predict_spam(predict_msg)\n",
    "count = Counter(summary)\n",
    "print(\"Output:\", predict_spam(predict_msg), \" => \", count)"
   ]
  },
  {
   "cell_type": "code",
   "execution_count": 151,
   "metadata": {},
   "outputs": [
    {
     "data": {
      "image/png": "[encoded data removed]",
      "text/plain": [
       "<Figure size 1000x1000 with 2 Axes>"
      ]
     },
     "metadata": {},
     "output_type": "display_data"
    }
   ],
   "source": [
    "# Heatmap visualization\n",
    "\n",
    "conf_mat = confusion_matrix(y_test, SVM_clf.predict(X_test))\n",
    "fig, ax = plt.subplots(figsize=(10,10))\n",
    "sns.heatmap(conf_mat, annot=True, fmt=\"d\",\n",
    "            xticklabels=class_names, yticklabels=class_names)\n",
    "plt.ylabel(\"Actual\")\n",
    "plt.xlabel(\"Predicted\")\n",
    "plt.show()"
   ]
  },
  {
   "cell_type": "code",
   "execution_count": 152,
   "metadata": {},
   "outputs": [
    {
     "data": {
      "image/png": "[encoded data removed]",
      "text/plain": [
       "<Figure size 640x480 with 1 Axes>"
      ]
     },
     "metadata": {},
     "output_type": "display_data"
    }
   ],
   "source": [
    "y_pred_proba = SVM_clf.predict_proba(X_test)[::,1]\n",
    "y_test = y_test.map({'spam': 1, 'ham': 0}).astype(int)\n",
    "fpr, tpr, thresholds = metrics.roc_curve(y_test, y_pred_proba)\n",
    "auc = metrics.roc_auc_score(y_test, y_pred_proba)\n",
    "plt.plot(fpr,tpr, label=\"SVC, auc=\"+str(auc))\n",
    "\n",
    "plt.legend(loc=4)\n",
    "plt.show()"
   ]
  },
  {
   "cell_type": "code",
   "execution_count": 153,
   "metadata": {},
   "outputs": [
    {
     "data": {
      "image/png": "[encoded data removed]",
      "text/plain": [
       "<Figure size 640x480 with 1 Axes>"
      ]
     },
     "metadata": {},
     "output_type": "display_data"
    }
   ],
   "source": [
    "from sklearn.metrics import roc_curve\n",
    "from matplotlib import pyplot\n",
    "\n",
    "ns_probs = [0 for _ in range(len(y_test))]\n",
    "lr_probs = SVM_clf.predict_proba(X_test)[::,1]\n",
    "\n",
    "# calculate roc curves\n",
    "ns_fpr, ns_tpr, _ = roc_curve(y_test, ns_probs)\n",
    "lr_fpr, lr_tpr, _ = roc_curve(y_test, lr_probs)\n",
    "\n",
    "plt.title(\"Test SVM\")\n",
    "pyplot.plot(ns_fpr, ns_tpr, linestyle='--')\n",
    "pyplot.plot(lr_fpr, lr_tpr, label=\"auc=\"+str(auc))\n",
    "\n",
    "# axis labels\n",
    "pyplot.xlabel('False Positive Rate')\n",
    "pyplot.ylabel('True Positive Rate')\n",
    "\n",
    "# show the legend\n",
    "pyplot.legend()\n",
    "\n",
    "# show the plot\n",
    "pyplot.show()"
   ]
  },
  {
   "attachments": {},
   "cell_type": "markdown",
   "metadata": {},
   "source": [
    "### Pickle model ###"
   ]
  },
  {
   "cell_type": "code",
   "execution_count": 154,
   "metadata": {},
   "outputs": [
    {
     "name": "stdout",
     "output_type": "stream",
     "text": [
      "CPU times: user 2.78 s, sys: 69.7 ms, total: 2.85 s\n",
      "Wall time: 2.54 s\n"
     ]
    }
   ],
   "source": [
    "import pickle\n",
    "\n",
    "def dummy(obj: Any) -> Any:\n",
    "    return obj\n",
    "\n",
    "SVM_clf = make_pipeline(\n",
    "    CountVectorizer(preprocessor=process_text, tokenizer=dummy, lowercase=False, ngram_range = (1, 2)),\n",
    "    TfidfTransformer(norm='l1'),\n",
    "    StandardScaler(with_mean=False),\n",
    "    MaxAbsScaler(),\n",
    "    SVC(kernel = 'sigmoid', C=10, class_weight=None, probability=True)\n",
    ")\n",
    "\n",
    "%time SVM_clf.fit(X_train, y_train)\n",
    "\n",
    "with open('pkl/SVM.pkl', 'wb') as file:\n",
    "    pickle.dump(SVM_clf, file)"
   ]
  }
 ],
 "metadata": {
  "kernelspec": {
   "display_name": "Python 3",
   "language": "python",
   "name": "python3"
  },
  "language_info": {
   "codemirror_mode": {
    "name": "ipython",
    "version": 3
   },
   "file_extension": ".py",
   "mimetype": "text/x-python",
   "name": "python",
   "nbconvert_exporter": "python",
   "pygments_lexer": "ipython3",
   "version": "3.9.13"
  },
  "orig_nbformat": 4,
  "vscode": {
   "interpreter": {
    "hash": "75e8eb0781b8fafa2233c27c5a9b9ae7b2925affab6a9c8e68e342492558c677"
   }
  }
 },
 "nbformat": 4,
 "nbformat_minor": 2
}
