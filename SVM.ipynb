{
 "cells": [
  {
   "cell_type": "code",
   "execution_count": 61,
   "metadata": {},
   "outputs": [],
   "source": [
    "import re\n",
    "import pandas as pd\n",
    "import numpy as np\n",
    "from pathlib import Path\n",
    "from pythainlp.tokenize import word_tokenize\n",
    "from pythainlp.corpus.common import thai_stopwords\n",
    "from pythainlp.ulmfit import *\n",
    "import matplotlib.font_manager\n",
    "\n",
    "# visualization\n",
    "import seaborn as sns\n",
    "import matplotlib.pyplot as plt\n",
    "from matplotlib import pyplot as plt\n",
    "\n",
    "# params\n",
    "pd.set_option(\"max_colwidth\", 0)\n",
    "sns.set_context(\"talk\")\n",
    "sns.set_palette(sns.color_palette(\"colorblind\", 10))\n",
    "\n",
    "matplotlib.rc(\"font\", family=\"Arial Unicode MS\")\n",
    "\n",
    "%matplotlib inline"
   ]
  },
  {
   "attachments": {},
   "cell_type": "markdown",
   "metadata": {},
   "source": [
    "### Reading Data ###"
   ]
  },
  {
   "cell_type": "code",
   "execution_count": 62,
   "metadata": {},
   "outputs": [
    {
     "data": {
      "text/html": [
       "<div>\n",
       "<style scoped>\n",
       "    .dataframe tbody tr th:only-of-type {\n",
       "        vertical-align: middle;\n",
       "    }\n",
       "\n",
       "    .dataframe tbody tr th {\n",
       "        vertical-align: top;\n",
       "    }\n",
       "\n",
       "    .dataframe thead th {\n",
       "        text-align: right;\n",
       "    }\n",
       "</style>\n",
       "<table border=\"1\" class=\"dataframe\">\n",
       "  <thead>\n",
       "    <tr style=\"text-align: right;\">\n",
       "      <th></th>\n",
       "      <th>category</th>\n",
       "      <th>texts</th>\n",
       "    </tr>\n",
       "  </thead>\n",
       "  <tbody>\n",
       "    <tr>\n",
       "      <th>0</th>\n",
       "      <td>ham</td>\n",
       "      <td>สธ. เปิดตัวรถฟอกไตเคลื่อนที่นวัตกรรมต้นแบบคันแรกของไทย</td>\n",
       "    </tr>\n",
       "    <tr>\n",
       "      <th>1</th>\n",
       "      <td>ham</td>\n",
       "      <td>สธ.เพิ่มศักยภาพโรงพยาบาลธัญญารักษ์ภูมิภาครองรับผู้ป่วยจิตเวชทั่วประเทศ</td>\n",
       "    </tr>\n",
       "    <tr>\n",
       "      <th>2</th>\n",
       "      <td>spam</td>\n",
       "      <td>หุ้นเทรดยักษ์ใหญ่กำไรแน่นเริ่มต้นเทรดเพียง 1000 บาทรับปันผล 30000 ต่อเดือน</td>\n",
       "    </tr>\n",
       "    <tr>\n",
       "      <th>3</th>\n",
       "      <td>spam</td>\n",
       "      <td>กรมการจัดหางาน เปิดโครงการ \"ไม่เลือกงาน ไม่ยากจน\" ให้คนไทยมีรายได้เสริม</td>\n",
       "    </tr>\n",
       "    <tr>\n",
       "      <th>4</th>\n",
       "      <td>spam</td>\n",
       "      <td>เพจ SAO Trading ในเครือของ AOT เปิดให้ลงทุนเริ่มต้น 1,000 บาท</td>\n",
       "    </tr>\n",
       "    <tr>\n",
       "      <th>...</th>\n",
       "      <td>...</td>\n",
       "      <td>...</td>\n",
       "    </tr>\n",
       "    <tr>\n",
       "      <th>2635</th>\n",
       "      <td>spam</td>\n",
       "      <td>ร่วมลงทุนกับGULFเริ่มต้นที่30หน่วยปันผลกำไรต่อวัน7%-12%</td>\n",
       "    </tr>\n",
       "    <tr>\n",
       "      <th>2636</th>\n",
       "      <td>ham</td>\n",
       "      <td>สำนักงานสลากฯเปิดตัวแผงสลากดิจิทัลผ่านเว็บไซต์www.glolotteryshop.com</td>\n",
       "    </tr>\n",
       "    <tr>\n",
       "      <th>2637</th>\n",
       "      <td>spam</td>\n",
       "      <td>เติมน้ำมันพืชแทนน้ำมันดีเซล ช่วยให้รถยนต์ประหยัดน้ำมันมากขึ้น</td>\n",
       "    </tr>\n",
       "    <tr>\n",
       "      <th>2638</th>\n",
       "      <td>ham</td>\n",
       "      <td>รับประทานผลไม้สดหรืออบแห้งผักสดถั่วต่างๆเหมาะกับผู้เป็นอาการวัยทอง</td>\n",
       "    </tr>\n",
       "    <tr>\n",
       "      <th>2639</th>\n",
       "      <td>spam</td>\n",
       "      <td>การประปาส่วนภูมิภาคแจ้งนโยบายช่วยภัยแล้งชดเชยหลังคาเรือนละ500บาทต่อเดือน</td>\n",
       "    </tr>\n",
       "  </tbody>\n",
       "</table>\n",
       "<p>2640 rows × 2 columns</p>\n",
       "</div>"
      ],
      "text/plain": [
       "     category  \\\n",
       "0     ham       \n",
       "1     ham       \n",
       "2     spam      \n",
       "3     spam      \n",
       "4     spam      \n",
       "...    ...      \n",
       "2635  spam      \n",
       "2636  ham       \n",
       "2637  spam      \n",
       "2638  ham       \n",
       "2639  spam      \n",
       "\n",
       "                                                                           texts  \n",
       "0     สธ. เปิดตัวรถฟอกไตเคลื่อนที่นวัตกรรมต้นแบบคันแรกของไทย                      \n",
       "1     สธ.เพิ่มศักยภาพโรงพยาบาลธัญญารักษ์ภูมิภาครองรับผู้ป่วยจิตเวชทั่วประเทศ      \n",
       "2     หุ้นเทรดยักษ์ใหญ่กำไรแน่นเริ่มต้นเทรดเพียง 1000 บาทรับปันผล 30000 ต่อเดือน  \n",
       "3     กรมการจัดหางาน เปิดโครงการ \"ไม่เลือกงาน ไม่ยากจน\" ให้คนไทยมีรายได้เสริม     \n",
       "4     เพจ SAO Trading ในเครือของ AOT เปิดให้ลงทุนเริ่มต้น 1,000 บาท               \n",
       "...                                                             ...               \n",
       "2635  ร่วมลงทุนกับGULFเริ่มต้นที่30หน่วยปันผลกำไรต่อวัน7%-12%                     \n",
       "2636  สำนักงานสลากฯเปิดตัวแผงสลากดิจิทัลผ่านเว็บไซต์www.glolotteryshop.com        \n",
       "2637  เติมน้ำมันพืชแทนน้ำมันดีเซล ช่วยให้รถยนต์ประหยัดน้ำมันมากขึ้น               \n",
       "2638  รับประทานผลไม้สดหรืออบแห้งผักสดถั่วต่างๆเหมาะกับผู้เป็นอาการวัยทอง          \n",
       "2639  การประปาส่วนภูมิภาคแจ้งนโยบายช่วยภัยแล้งชดเชยหลังคาเรือนละ500บาทต่อเดือน    \n",
       "\n",
       "[2640 rows x 2 columns]"
      ]
     },
     "execution_count": 62,
     "metadata": {},
     "output_type": "execute_result"
    }
   ],
   "source": [
    "# import dataset\n",
    "\n",
    "train_data = pd.read_csv('newsHeadlineDataset.csv')\n",
    "df = pd.DataFrame(train_data)\n",
    "df"
   ]
  },
  {
   "cell_type": "code",
   "execution_count": 63,
   "metadata": {},
   "outputs": [
    {
     "data": {
      "text/plain": [
       "category    0\n",
       "texts       0\n",
       "dtype: int64"
      ]
     },
     "execution_count": 63,
     "metadata": {},
     "output_type": "execute_result"
    }
   ],
   "source": [
    "df.isnull().sum()"
   ]
  },
  {
   "cell_type": "code",
   "execution_count": 64,
   "metadata": {},
   "outputs": [
    {
     "data": {
      "text/html": [
       "<div>\n",
       "<style scoped>\n",
       "    .dataframe tbody tr th:only-of-type {\n",
       "        vertical-align: middle;\n",
       "    }\n",
       "\n",
       "    .dataframe tbody tr th {\n",
       "        vertical-align: top;\n",
       "    }\n",
       "\n",
       "    .dataframe thead th {\n",
       "        text-align: right;\n",
       "    }\n",
       "</style>\n",
       "<table border=\"1\" class=\"dataframe\">\n",
       "  <thead>\n",
       "    <tr style=\"text-align: right;\">\n",
       "      <th></th>\n",
       "      <th>category</th>\n",
       "      <th>texts</th>\n",
       "    </tr>\n",
       "  </thead>\n",
       "  <tbody>\n",
       "    <tr>\n",
       "      <th>count</th>\n",
       "      <td>2640</td>\n",
       "      <td>2640</td>\n",
       "    </tr>\n",
       "    <tr>\n",
       "      <th>unique</th>\n",
       "      <td>2</td>\n",
       "      <td>2640</td>\n",
       "    </tr>\n",
       "    <tr>\n",
       "      <th>top</th>\n",
       "      <td>ham</td>\n",
       "      <td>สธ. เปิดตัวรถฟอกไตเคลื่อนที่นวัตกรรมต้นแบบคันแรกของไทย</td>\n",
       "    </tr>\n",
       "    <tr>\n",
       "      <th>freq</th>\n",
       "      <td>1320</td>\n",
       "      <td>1</td>\n",
       "    </tr>\n",
       "  </tbody>\n",
       "</table>\n",
       "</div>"
      ],
      "text/plain": [
       "       category                                                   texts\n",
       "count   2640     2640                                                  \n",
       "unique  2        2640                                                  \n",
       "top     ham      สธ. เปิดตัวรถฟอกไตเคลื่อนที่นวัตกรรมต้นแบบคันแรกของไทย\n",
       "freq    1320     1                                                     "
      ]
     },
     "execution_count": 64,
     "metadata": {},
     "output_type": "execute_result"
    }
   ],
   "source": [
    "df.describe()"
   ]
  },
  {
   "cell_type": "code",
   "execution_count": 65,
   "metadata": {},
   "outputs": [
    {
     "data": {
      "text/html": [
       "<div>\n",
       "<style scoped>\n",
       "    .dataframe tbody tr th:only-of-type {\n",
       "        vertical-align: middle;\n",
       "    }\n",
       "\n",
       "    .dataframe tbody tr th {\n",
       "        vertical-align: top;\n",
       "    }\n",
       "\n",
       "    .dataframe thead th {\n",
       "        text-align: right;\n",
       "    }\n",
       "</style>\n",
       "<table border=\"1\" class=\"dataframe\">\n",
       "  <thead>\n",
       "    <tr style=\"text-align: right;\">\n",
       "      <th></th>\n",
       "      <th>category</th>\n",
       "      <th>texts</th>\n",
       "    </tr>\n",
       "  </thead>\n",
       "  <tbody>\n",
       "  </tbody>\n",
       "</table>\n",
       "</div>"
      ],
      "text/plain": [
       "Empty DataFrame\n",
       "Columns: [category, texts]\n",
       "Index: []"
      ]
     },
     "execution_count": 65,
     "metadata": {},
     "output_type": "execute_result"
    }
   ],
   "source": [
    "df[df.duplicated()]"
   ]
  },
  {
   "cell_type": "code",
   "execution_count": 66,
   "metadata": {},
   "outputs": [
    {
     "data": {
      "text/html": [
       "<div>\n",
       "<style scoped>\n",
       "    .dataframe tbody tr th:only-of-type {\n",
       "        vertical-align: middle;\n",
       "    }\n",
       "\n",
       "    .dataframe tbody tr th {\n",
       "        vertical-align: top;\n",
       "    }\n",
       "\n",
       "    .dataframe thead tr th {\n",
       "        text-align: left;\n",
       "    }\n",
       "\n",
       "    .dataframe thead tr:last-of-type th {\n",
       "        text-align: right;\n",
       "    }\n",
       "</style>\n",
       "<table border=\"1\" class=\"dataframe\">\n",
       "  <thead>\n",
       "    <tr>\n",
       "      <th></th>\n",
       "      <th colspan=\"4\" halign=\"left\">texts</th>\n",
       "    </tr>\n",
       "    <tr>\n",
       "      <th></th>\n",
       "      <th>count</th>\n",
       "      <th>unique</th>\n",
       "      <th>top</th>\n",
       "      <th>freq</th>\n",
       "    </tr>\n",
       "    <tr>\n",
       "      <th>category</th>\n",
       "      <th></th>\n",
       "      <th></th>\n",
       "      <th></th>\n",
       "      <th></th>\n",
       "    </tr>\n",
       "  </thead>\n",
       "  <tbody>\n",
       "    <tr>\n",
       "      <th>ham</th>\n",
       "      <td>1320</td>\n",
       "      <td>1320</td>\n",
       "      <td>สธ. เปิดตัวรถฟอกไตเคลื่อนที่นวัตกรรมต้นแบบคันแรกของไทย</td>\n",
       "      <td>1</td>\n",
       "    </tr>\n",
       "    <tr>\n",
       "      <th>spam</th>\n",
       "      <td>1320</td>\n",
       "      <td>1320</td>\n",
       "      <td>หุ้นเทรดยักษ์ใหญ่กำไรแน่นเริ่มต้นเทรดเพียง 1000 บาทรับปันผล 30000 ต่อเดือน</td>\n",
       "      <td>1</td>\n",
       "    </tr>\n",
       "  </tbody>\n",
       "</table>\n",
       "</div>"
      ],
      "text/plain": [
       "         texts         \\\n",
       "         count unique   \n",
       "category                \n",
       "ham       1320  1320    \n",
       "spam      1320  1320    \n",
       "\n",
       "                                                                                      \\\n",
       "                                                                                 top   \n",
       "category                                                                               \n",
       "ham       สธ. เปิดตัวรถฟอกไตเคลื่อนที่นวัตกรรมต้นแบบคันแรกของไทย                       \n",
       "spam      หุ้นเทรดยักษ์ใหญ่กำไรแน่นเริ่มต้นเทรดเพียง 1000 บาทรับปันผล 30000 ต่อเดือน   \n",
       "\n",
       "               \n",
       "         freq  \n",
       "category       \n",
       "ham       1    \n",
       "spam      1    "
      ]
     },
     "execution_count": 66,
     "metadata": {},
     "output_type": "execute_result"
    }
   ],
   "source": [
    "df.groupby(\"category\").describe()"
   ]
  },
  {
   "cell_type": "code",
   "execution_count": 67,
   "metadata": {},
   "outputs": [
    {
     "data": {
      "image/png": "[encoded data removed]",
      "text/plain": [
       "<Figure size 1000x500 with 1 Axes>"
      ]
     },
     "metadata": {},
     "output_type": "display_data"
    }
   ],
   "source": [
    "row_count_by_category = df.category.value_counts()\n",
    "ax = row_count_by_category.plot(kind='bar', title=\"Category\", figsize=(10, 5))\n",
    "ax.set_ylim(0, 1500)\n",
    "for i, label in enumerate(row_count_by_category):\n",
    "    ax.annotate(str(label), (i-0.1, label + 500))"
   ]
  },
  {
   "attachments": {},
   "cell_type": "markdown",
   "metadata": {},
   "source": [
    "### TF-IDF visualization ###"
   ]
  },
  {
   "cell_type": "code",
   "execution_count": 68,
   "metadata": {},
   "outputs": [],
   "source": [
    "def top_feats(row, features, top_n=25):\n",
    "    ''' Get top n tfidf values in row and return them with their corresponding feature names.'''\n",
    "\n",
    "    topn_ids = np.argsort(row)[::-1][:top_n]\n",
    "    top_feats = [(features[i], row[i]) for i in topn_ids]\n",
    "    df = pd.DataFrame(top_feats)\n",
    "    df.columns = [\"feature\", \"score\"]\n",
    "\n",
    "    return df"
   ]
  },
  {
   "cell_type": "code",
   "execution_count": 69,
   "metadata": {},
   "outputs": [],
   "source": [
    "def top_mean_feats(Xtr, features, grp_ids=None, min_tfidf=0.1, top_n=25):\n",
    "    ''' Return the top n features that on average are most important amongst documents in rows\n",
    "        indentified by indices in grp_ids. '''\n",
    "\n",
    "    if grp_ids:\n",
    "        D = Xtr[grp_ids].toarray()\n",
    "    else:\n",
    "        D = Xtr.toarray()\n",
    "\n",
    "    D[D < min_tfidf] = 0\n",
    "    tfidf_means = np.mean(D, axis=0)\n",
    "\n",
    "    return top_feats(tfidf_means, features, top_n)"
   ]
  },
  {
   "cell_type": "code",
   "execution_count": 70,
   "metadata": {},
   "outputs": [],
   "source": [
    "def top_feats_by_class(Xtr, y, features, min_tfidf=0.1, top_n=25):\n",
    "    ''' Return a list of dfs, where each df holds top_n features and their mean tfidf value\n",
    "        calculated across documents with the same class label. '''\n",
    "\n",
    "    dfs = []\n",
    "    labels = np.unique(y)\n",
    "\n",
    "    for label in labels:\n",
    "        ids = np.where(y==label)\n",
    "        feats_df = top_mean_feats(Xtr, features, ids, min_tfidf=min_tfidf, top_n=top_n)\n",
    "        feats_df.label = label\n",
    "        dfs.append(feats_df)\n",
    "\n",
    "    return dfs"
   ]
  },
  {
   "cell_type": "code",
   "execution_count": 71,
   "metadata": {},
   "outputs": [],
   "source": [
    "def plot_classfeats_h(dfs, score_name=''):\n",
    "    ''' Plot the data frames returned by the function plot_tfidf_classfeats(). '''\n",
    "\n",
    "    fig = plt.figure(figsize=(12, 9), facecolor=\"w\")\n",
    "    x = np.arange(len(dfs[0]))\n",
    "\n",
    "    for i, df in enumerate(dfs):\n",
    "        ax = fig.add_subplot(1, len(dfs), i+1)\n",
    "        ax.spines[\"top\"].set_visible(False)\n",
    "        ax.spines[\"right\"].set_visible(False)\n",
    "        ax.set_frame_on(False)\n",
    "        ax.get_xaxis().tick_bottom()\n",
    "        ax.get_yaxis().tick_left()\n",
    "        ax.set_xlabel(f\"Mean {score_name} Score\", labelpad=16, fontsize=14)\n",
    "        ax.set_title(\"label = \" + str(df.label), fontsize=16)\n",
    "        ax.ticklabel_format(axis='x', style='sci', scilimits=(-2,2))\n",
    "        ax.barh(x, df.score, align='center', color='#3F5D7D')\n",
    "        ax.set_yticks(x)\n",
    "        ax.set_ylim([-1, x[-1]+1])\n",
    "        ax.invert_yaxis()\n",
    "        yticks = ax.set_yticklabels(df.feature)\n",
    "        plt.subplots_adjust(bottom=0.09, right=0.97, left=0.15, top=0.95, wspace=0.52)\n",
    "\n",
    "    plt.show()"
   ]
  },
  {
   "cell_type": "code",
   "execution_count": 72,
   "metadata": {},
   "outputs": [],
   "source": [
    "def show_classfeats(df, vectorizer, analyzer, score_name='', text_col='texts', class_col='category', is_emoji=False):\n",
    "    vec = vectorizer(analyzer=analyzer)\n",
    "    mat = vec.fit_transform(df[text_col])\n",
    "    dfs = top_feats_by_class(mat, df[class_col], vec.get_feature_names())\n",
    "\n",
    "    if is_emoji:\n",
    "        for dataframe in dfs:\n",
    "            dataframe.columns = [dataframe.label, 'tfidf_' + dataframe.label]\n",
    "        return pd.concat(dfs, axis=1)\n",
    "    else:\n",
    "        plot_classfeats_h(dfs, score_name=score_name)"
   ]
  },
  {
   "cell_type": "code",
   "execution_count": 73,
   "metadata": {},
   "outputs": [],
   "source": [
    "import string\n",
    "import emoji\n",
    "import numpy as np\n",
    "\n",
    "from sklearn.feature_extraction.text import TfidfVectorizer\n",
    "\n",
    "def process_text(text):\n",
    "    nopunc = [char for char in text if char not in string.punctuation]\n",
    "    nopunc = \"\".join(nopunc)\n",
    "    \n",
    "    return [word for word in word_tokenize(nopunc) if word and not re.search(pattern=r\"\\s+\", string=word)]\n",
    "\n",
    "def extract_url(text):\n",
    "    URL_PATTERN = r\"(https?:\\/\\/)?\\.([\\da-z-]+)\\.([a-z\\.]{2,6})([\\/\\w\\.-]*)*\\/?\\S\"\n",
    "    return [url[1] for url in re.findall(pattern=URL_PATTERN, string=text.lower())]\n",
    "\n",
    "def extract_emojis(str):\n",
    "    return [c for c in str if c in emoji.UNICODE_EMOJI]\n",
    "\n",
    "def extract_punc(text):\n",
    "    return [char for char in text if char in string.punctuation]\n",
    "\n",
    "def extract_hashtags(text):\n",
    "    HASHTAG_PATTERN = r\"#[a-zA-Z0-9ก-๙]+\"\n",
    "    return re.findall(pattern=HASHTAG_PATTERN, string=text)"
   ]
  },
  {
   "cell_type": "code",
   "execution_count": 74,
   "metadata": {},
   "outputs": [
    {
     "name": "stderr",
     "output_type": "stream",
     "text": [
      "/Users/komcharnnitrat/opt/anaconda3/lib/python3.9/site-packages/sklearn/utils/deprecation.py:87: FutureWarning: Function get_feature_names is deprecated; get_feature_names is deprecated in 1.0 and will be removed in 1.2. Please use get_feature_names_out instead.\n",
      "  warnings.warn(msg, category=FutureWarning)\n"
     ]
    },
    {
     "data": {
      "image/png": "[encoded data removed]",
      "text/plain": [
       "<Figure size 1200x900 with 2 Axes>"
      ]
     },
     "metadata": {},
     "output_type": "display_data"
    }
   ],
   "source": [
    "show_classfeats(\n",
    "    df=df[:2640],\n",
    "    vectorizer=TfidfVectorizer,\n",
    "    analyzer=process_text,\n",
    "    score_name=\"tf-idf\",\n",
    ")"
   ]
  },
  {
   "cell_type": "code",
   "execution_count": 75,
   "metadata": {},
   "outputs": [
    {
     "name": "stderr",
     "output_type": "stream",
     "text": [
      "/Users/komcharnnitrat/opt/anaconda3/lib/python3.9/site-packages/sklearn/utils/deprecation.py:87: FutureWarning: Function get_feature_names is deprecated; get_feature_names is deprecated in 1.0 and will be removed in 1.2. Please use get_feature_names_out instead.\n",
      "  warnings.warn(msg, category=FutureWarning)\n"
     ]
    },
    {
     "data": {
      "image/png": "[encoded data removed]",
      "text/plain": [
       "<Figure size 1200x900 with 2 Axes>"
      ]
     },
     "metadata": {},
     "output_type": "display_data"
    }
   ],
   "source": [
    "# Punctuation\n",
    "\n",
    "show_classfeats(df=df, vectorizer=TfidfVectorizer, score_name=\"tf-idf\", analyzer=extract_punc)"
   ]
  },
  {
   "cell_type": "code",
   "execution_count": 76,
   "metadata": {},
   "outputs": [
    {
     "data": {
      "text/html": [
       "<div>\n",
       "<style scoped>\n",
       "    .dataframe tbody tr th:only-of-type {\n",
       "        vertical-align: middle;\n",
       "    }\n",
       "\n",
       "    .dataframe tbody tr th {\n",
       "        vertical-align: top;\n",
       "    }\n",
       "\n",
       "    .dataframe thead th {\n",
       "        text-align: right;\n",
       "    }\n",
       "</style>\n",
       "<table border=\"1\" class=\"dataframe\">\n",
       "  <thead>\n",
       "    <tr style=\"text-align: right;\">\n",
       "      <th></th>\n",
       "      <th>category</th>\n",
       "      <th>texts</th>\n",
       "    </tr>\n",
       "  </thead>\n",
       "  <tbody>\n",
       "    <tr>\n",
       "      <th>0</th>\n",
       "      <td>ham</td>\n",
       "      <td>สธ. เปิดตัวรถฟอกไตเคลื่อนที่นวัตกรรมต้นแบบคันแรกของไทย</td>\n",
       "    </tr>\n",
       "    <tr>\n",
       "      <th>1</th>\n",
       "      <td>ham</td>\n",
       "      <td>สธ.เพิ่มศักยภาพโรงพยาบาลธัญญารักษ์ภูมิภาครองรับผู้ป่วยจิตเวชทั่วประเทศ</td>\n",
       "    </tr>\n",
       "    <tr>\n",
       "      <th>2</th>\n",
       "      <td>spam</td>\n",
       "      <td>หุ้นเทรดยักษ์ใหญ่กำไรแน่นเริ่มต้นเทรดเพียง 1000 บาทรับปันผล 30000 ต่อเดือน</td>\n",
       "    </tr>\n",
       "    <tr>\n",
       "      <th>3</th>\n",
       "      <td>spam</td>\n",
       "      <td>กรมการจัดหางาน เปิดโครงการ \"ไม่เลือกงาน ไม่ยากจน\" ให้คนไทยมีรายได้เสริม</td>\n",
       "    </tr>\n",
       "    <tr>\n",
       "      <th>4</th>\n",
       "      <td>spam</td>\n",
       "      <td>เพจ SAO Trading ในเครือของ AOT เปิดให้ลงทุนเริ่มต้น 1,000 บาท</td>\n",
       "    </tr>\n",
       "    <tr>\n",
       "      <th>...</th>\n",
       "      <td>...</td>\n",
       "      <td>...</td>\n",
       "    </tr>\n",
       "    <tr>\n",
       "      <th>2635</th>\n",
       "      <td>spam</td>\n",
       "      <td>ร่วมลงทุนกับGULFเริ่มต้นที่30หน่วยปันผลกำไรต่อวัน7%-12%</td>\n",
       "    </tr>\n",
       "    <tr>\n",
       "      <th>2636</th>\n",
       "      <td>ham</td>\n",
       "      <td>สำนักงานสลากฯเปิดตัวแผงสลากดิจิทัลผ่านเว็บไซต์www.glolotteryshop.com</td>\n",
       "    </tr>\n",
       "    <tr>\n",
       "      <th>2637</th>\n",
       "      <td>spam</td>\n",
       "      <td>เติมน้ำมันพืชแทนน้ำมันดีเซล ช่วยให้รถยนต์ประหยัดน้ำมันมากขึ้น</td>\n",
       "    </tr>\n",
       "    <tr>\n",
       "      <th>2638</th>\n",
       "      <td>ham</td>\n",
       "      <td>รับประทานผลไม้สดหรืออบแห้งผักสดถั่วต่างๆเหมาะกับผู้เป็นอาการวัยทอง</td>\n",
       "    </tr>\n",
       "    <tr>\n",
       "      <th>2639</th>\n",
       "      <td>spam</td>\n",
       "      <td>การประปาส่วนภูมิภาคแจ้งนโยบายช่วยภัยแล้งชดเชยหลังคาเรือนละ500บาทต่อเดือน</td>\n",
       "    </tr>\n",
       "  </tbody>\n",
       "</table>\n",
       "<p>2640 rows × 2 columns</p>\n",
       "</div>"
      ],
      "text/plain": [
       "     category  \\\n",
       "0     ham       \n",
       "1     ham       \n",
       "2     spam      \n",
       "3     spam      \n",
       "4     spam      \n",
       "...    ...      \n",
       "2635  spam      \n",
       "2636  ham       \n",
       "2637  spam      \n",
       "2638  ham       \n",
       "2639  spam      \n",
       "\n",
       "                                                                           texts  \n",
       "0     สธ. เปิดตัวรถฟอกไตเคลื่อนที่นวัตกรรมต้นแบบคันแรกของไทย                      \n",
       "1     สธ.เพิ่มศักยภาพโรงพยาบาลธัญญารักษ์ภูมิภาครองรับผู้ป่วยจิตเวชทั่วประเทศ      \n",
       "2     หุ้นเทรดยักษ์ใหญ่กำไรแน่นเริ่มต้นเทรดเพียง 1000 บาทรับปันผล 30000 ต่อเดือน  \n",
       "3     กรมการจัดหางาน เปิดโครงการ \"ไม่เลือกงาน ไม่ยากจน\" ให้คนไทยมีรายได้เสริม     \n",
       "4     เพจ SAO Trading ในเครือของ AOT เปิดให้ลงทุนเริ่มต้น 1,000 บาท               \n",
       "...                                                             ...               \n",
       "2635  ร่วมลงทุนกับGULFเริ่มต้นที่30หน่วยปันผลกำไรต่อวัน7%-12%                     \n",
       "2636  สำนักงานสลากฯเปิดตัวแผงสลากดิจิทัลผ่านเว็บไซต์www.glolotteryshop.com        \n",
       "2637  เติมน้ำมันพืชแทนน้ำมันดีเซล ช่วยให้รถยนต์ประหยัดน้ำมันมากขึ้น               \n",
       "2638  รับประทานผลไม้สดหรืออบแห้งผักสดถั่วต่างๆเหมาะกับผู้เป็นอาการวัยทอง          \n",
       "2639  การประปาส่วนภูมิภาคแจ้งนโยบายช่วยภัยแล้งชดเชยหลังคาเรือนละ500บาทต่อเดือน    \n",
       "\n",
       "[2640 rows x 2 columns]"
      ]
     },
     "execution_count": 76,
     "metadata": {},
     "output_type": "execute_result"
    }
   ],
   "source": [
    "# Create new dataframe\n",
    "\n",
    "sentiment_df = df\n",
    "sentiment_df"
   ]
  },
  {
   "attachments": {},
   "cell_type": "markdown",
   "metadata": {},
   "source": [
    "### Tokenize text ###"
   ]
  },
  {
   "cell_type": "code",
   "execution_count": 77,
   "metadata": {},
   "outputs": [
    {
     "data": {
      "text/plain": [
       "0       สธ . เปิดตัว รถ ฟอก ไต เคลื่อนที่ นวัตกรรม ต้นแบบ คัน แรก ของ ไทย                 \n",
       "1       สธ . เพิ่ม ศักยภาพ โรงพยาบาล ธัญ ญา รักษ์ ภูมิภาค รองรับ ผู้ป่วย จิตเวช ทั่วประเทศ\n",
       "2       หุ้น เทรด ยักษ์ ใหญ่ กำไร แน่น เริ่มต้น เทรด เพียง บาท รับ ปันผล ต่อ เดือน        \n",
       "3       กรมการจัดหางาน เปิด โครงการ ไม่ เลือก งาน ไม่ ยากจน ให้ คนไทย มี รายได้ เสริม     \n",
       "4       เพจ sao trading ในเครือ ของ aot เปิด ให้ ลงทุน เริ่มต้น บาท                       \n",
       "                                   ...                                                    \n",
       "2635    ร่วม ลงทุน กับ gulf เริ่มต้น ที่ หน่วย ปัน ผลกำไร ต่อ วัน                         \n",
       "2636    สำนักงาน สลาก ฯ เปิดตัว แผง สลาก ดิจิทัล ผ่าน เว็บไซต์ www .glolotteryshop.com    \n",
       "2637    เติม น้ำมันพืช แทน น้ำมันดีเซล ช่วย ให้ รถยนต์ ประหยัด น้ำมัน มากขึ้น             \n",
       "2638    รับประทาน ผลไม้ สด หรือ อบ แห้ง ผักสด ถั่ว ต่างๆ เหมาะกับ ผู้ เป็น อาการ วัยทอง   \n",
       "2639    การประปาส่วนภูมิภาค แจ้ง นโยบาย ช่วย ภัยแล้ง ชดเชย หลังคาเรือน ละ บาท ต่อ เดือน   \n",
       "Name: texts, Length: 2640, dtype: object"
      ]
     },
     "execution_count": 77,
     "metadata": {},
     "output_type": "execute_result"
    }
   ],
   "source": [
    "def preprocess_thai_text(texts):\n",
    "    # Tokenization\n",
    "    tokens = word_tokenize(texts)\n",
    "    \n",
    "    # Stopword removal\n",
    "    filtered_tokens = [word for word in tokens if word not in thai_stopwords()]\n",
    "    \n",
    "    # Join the tokens back into a clean text\n",
    "    clean_text = \" \".join(filtered_tokens)\n",
    "    \n",
    "    return clean_text\n",
    "\n",
    "punc = '''!()-[]{};:'\"\\,<>/?@#$%^&*_~'''\n",
    "\n",
    "def remove_punc(text):\n",
    "    clean_text = text.lower()\n",
    "    \n",
    "    for text in punc:\n",
    "        if text in string.punctuation:\n",
    "            clean_text = clean_text.replace(text, \"\")\n",
    "    return clean_text\n",
    "\n",
    "def remove_whitespace(text):\n",
    "    cleaned_text = ' '.join(text.split())\n",
    "    return cleaned_text.lower()\n",
    "\n",
    "def remove_numbers(text):\n",
    "    cleaned_text = re.sub(r'\\d+', '', text)\n",
    "    return cleaned_text\n",
    "\n",
    "\n",
    "sentiment_df['texts'] = sentiment_df.texts.map(lambda x: \" \".join(word_tokenize(x)))\n",
    "sentiment_df['texts'] = sentiment_df['texts'].apply(remove_punc)\n",
    "sentiment_df['texts'] = sentiment_df['texts'].apply(remove_numbers)\n",
    "sentiment_df['texts'] = sentiment_df['texts'].apply(remove_whitespace)\n",
    "sentiment_df['texts']"
   ]
  },
  {
   "attachments": {},
   "cell_type": "markdown",
   "metadata": {},
   "source": [
    "### Train-Test split ###"
   ]
  },
  {
   "cell_type": "code",
   "execution_count": 78,
   "metadata": {},
   "outputs": [],
   "source": [
    "class_names = np.unique(sentiment_df.category).tolist()\n",
    "\n",
    "X = sentiment_df[\"texts\"]\n",
    "y = sentiment_df[\"category\"]\n",
    "\n",
    "from sklearn.model_selection import train_test_split\n",
    "X_train, X_test, y_train, y_test = train_test_split(X, y, test_size=0.20, random_state=42, stratify=y)"
   ]
  },
  {
   "cell_type": "code",
   "execution_count": 79,
   "metadata": {},
   "outputs": [
    {
     "data": {
      "text/plain": [
       "2417    ออมสิน ปล่อย สินเชื่อ ห่วงใย ผ่าน เพจ สาขา มณี mymo วงเงิน บาท                            \n",
       "2566    ครม. อนุมัติ ค่ารักษาพยาบาล จาก เดิม เพิ่ม เป็น บาท                                       \n",
       "2325    ตลาดหลักทรัพย์ ฯ เปิดโอกาส ให้ ร่วม ลงทุน กับ cpall ลงุทน รับ ปันผล บาท ต่อ วัน           \n",
       "626     กอง สลาก ฯ ให้ เลข ออกรางวัล ล่วงหน้า กับ คน ที่ทำงาน ใน กอง สลาก ฯ                       \n",
       "2174    ตรวจ พบ ยา ชนิด ใหม่ “ ฟลูอัลป รา โซ แล ม ” ใน erimin                                     \n",
       "                                ...                                                               \n",
       "1119    ชลประทาน ระบาย น้ำลด ระดับ เก็บ กัก ช่วย ปชช . ใน พื้นที่ อ่าง ฯ โปร่ง ขุน เพชร จ. ชัยภูมิ\n",
       "722     กรม อุตุฯ ร่วมกับ ผู้ให้บริการ โทรศัพท์เคลื่อนที่ ส่ง ข้อความ แจ้ง เตือน ภัยธรรมชาติ      \n",
       "1690    พ่อ แม่ ลูก กรุ๊ป เลือด ไม่ เหมือนกัน ใช่ ครอบครัว เดียวกัน                               \n",
       "2574    สิทธิบัตร ทอง ช่วยเหลือ กรณี สูงสุด แสน บาท                                               \n",
       "1974    กรมบัญชีกลาง แจ้ง เรื่อง ให้ ปชช . อัปเดต ฐานข้อมูล บุคลากร ภาครัฐ                        \n",
       "Name: texts, Length: 528, dtype: object"
      ]
     },
     "execution_count": 79,
     "metadata": {},
     "output_type": "execute_result"
    }
   ],
   "source": [
    "X_test"
   ]
  },
  {
   "cell_type": "code",
   "execution_count": 80,
   "metadata": {},
   "outputs": [
    {
     "data": {
      "text/plain": [
       "2417    spam\n",
       "2566    ham \n",
       "2325    spam\n",
       "626     spam\n",
       "2174    ham \n",
       "       ...  \n",
       "1119    ham \n",
       "722     ham \n",
       "1690    ham \n",
       "2574    ham \n",
       "1974    spam\n",
       "Name: category, Length: 528, dtype: object"
      ]
     },
     "execution_count": 80,
     "metadata": {},
     "output_type": "execute_result"
    }
   ],
   "source": [
    "y_test"
   ]
  },
  {
   "attachments": {},
   "cell_type": "markdown",
   "metadata": {},
   "source": [
    "### *SVM(sigmoid)* ###"
   ]
  },
  {
   "cell_type": "code",
   "execution_count": 81,
   "metadata": {},
   "outputs": [
    {
     "name": "stdout",
     "output_type": "stream",
     "text": [
      "CPU times: user 2.95 s, sys: 25 ms, total: 2.97 s\n",
      "Wall time: 3.16 s\n",
      "Accuracy:  0.8920454545454546\n"
     ]
    }
   ],
   "source": [
    "from typing import Any\n",
    "from sklearn.pipeline import make_pipeline\n",
    "from sklearn.feature_extraction.text import CountVectorizer, TfidfTransformer\n",
    "from sklearn.preprocessing import StandardScaler, MaxAbsScaler\n",
    "from sklearn.svm import SVC\n",
    "\n",
    "def dummy(obj: Any) -> Any:\n",
    "    return obj\n",
    "\n",
    "SVM_clf = make_pipeline(\n",
    "    CountVectorizer(preprocessor=process_text, tokenizer=dummy, lowercase=False, ngram_range = (1, 2)),\n",
    "    TfidfTransformer(norm='l1'),\n",
    "    StandardScaler(with_mean=False),\n",
    "    MaxAbsScaler(),\n",
    "    SVC(kernel = 'sigmoid', C=10, class_weight=None, probability=True)\n",
    ")\n",
    "\n",
    "%time SVM_clf.fit(X_train, y_train)\n",
    "\n",
    "SVM_clf.predict(X_test)\n",
    "score = SVM_clf.score(X_test, y_test)\n",
    "\n",
    "print(\"Accuracy: \", score)"
   ]
  },
  {
   "cell_type": "code",
   "execution_count": 82,
   "metadata": {},
   "outputs": [
    {
     "name": "stdout",
     "output_type": "stream",
     "text": [
      "\n",
      "Testing:\n",
      "\n",
      "[[238  26]\n",
      " [ 31 233]]\n",
      "              precision    recall  f1-score   support\n",
      "\n",
      "         ham       0.88      0.90      0.89       264\n",
      "        spam       0.90      0.88      0.89       264\n",
      "\n",
      "    accuracy                           0.89       528\n",
      "   macro avg       0.89      0.89      0.89       528\n",
      "weighted avg       0.89      0.89      0.89       528\n",
      "\n",
      "AUC score:  0.9502769168962351\n"
     ]
    }
   ],
   "source": [
    "from sklearn.metrics import confusion_matrix\n",
    "from sklearn.metrics import classification_report\n",
    "from sklearn import metrics\n",
    "from sklearn.metrics import roc_auc_score\n",
    "\n",
    "print()\n",
    "print(\"Testing:\\n\")\n",
    "\n",
    "ypred_test = SVM_clf.predict(X_test)\n",
    "mat_clf = confusion_matrix(y_test, ypred_test)\n",
    "report_clf = classification_report(y_test, ypred_test)\n",
    "\n",
    "# Confusion matrix\n",
    "clf_matrix = metrics.confusion_matrix(y_test, ypred_test)\n",
    "\n",
    "print(mat_clf)\n",
    "print(report_clf)\n",
    "\n",
    "y_pred_proba = SVM_clf.predict_proba(X_test)[::,1]\n",
    "auc = metrics.roc_auc_score(y_test, y_pred_proba)\n",
    "\n",
    "print(\"AUC score: \", auc)"
   ]
  },
  {
   "cell_type": "code",
   "execution_count": 83,
   "metadata": {},
   "outputs": [],
   "source": [
    "y_test_rep = y_test\n",
    "ypred_test_rep = ypred_test\n",
    "\n",
    "mapping = {\"ham\": 0, \"spam\": 1}\n",
    "y_test_rep = [mapping[label] for label in y_test]\n",
    "ypred_test_rep = [mapping[label] for label in ypred_test]"
   ]
  },
  {
   "cell_type": "code",
   "execution_count": 84,
   "metadata": {},
   "outputs": [
    {
     "name": "stdout",
     "output_type": "stream",
     "text": [
      "F1-score:  0.8910133843212237\n"
     ]
    }
   ],
   "source": [
    "from sklearn.metrics import f1_score\n",
    "\n",
    "print(\"F1-score: \", f1_score(y_test_rep, ypred_test_rep))"
   ]
  },
  {
   "cell_type": "code",
   "execution_count": 85,
   "metadata": {},
   "outputs": [
    {
     "name": "stdout",
     "output_type": "stream",
     "text": [
      "Output: ['ham' 'spam' 'ham' 'ham' 'ham' 'spam' 'spam' 'spam' 'spam' 'spam']  =>  Counter({'spam': 6, 'ham': 4})\n"
     ]
    }
   ],
   "source": [
    "from collections import Counter\n",
    "\n",
    "predict_msg = [\"รองต่อ รุดที่เกิดเหตุหลัง ผกก.ทล. เครียดกรณี สว.แบงค์ ก่อนยิงตัวตาย\",\n",
    "               \"วงจรปิดชัด หน่อง ท่าผา ขับรถมาคันเดียว เลี้ยวเข้าซอยก่อนโดนวิสามัญ\",\n",
    "               \"ผกก.สน.พญาไท โดนหางเลข ร่วมงานเลี้ยงบ้าน กำนันนก น.1 สั่งตั้ง กก.สอบ\",\n",
    "               \"อนุทิน ชมฝ่ายค้านมีสปิริตอภิปราย ไม่ไล่บี้รัฐบาล ยังอุบชื่อรองโฆษกฯ\",\n",
    "               \"นายกฯ เตือน โตๆ กันแล้ว จ่อคุยเยอรมนี ปมเครื่องยนต์เรือดำน้ำ “โรม” ประท้วงเสียดสี\",\n",
    "               \"ตลาดหลักทรัพย์ฯร่วมกับบริษัทมหาชนที่ดำเนินธุรกิจด้านการลงทุนและพัฒนาอสังหาริมทรัพย์เปิดให้ซื้อกองทุนวัยเกษียณ10,000บาทปันผล10-12%\",\n",
    "               \"ลงทุนในสินทรัพย์Top10ของโลกเริ่มต้น1,000บาทภายใต้การควบคุมของตลาดหลักทรัพย์แห่งประเทศไทย\",\n",
    "               \"ชวนลงทุนกองทุนทองคำคุณภาพเริ่มพอร์ต1,000บาทเปิดพอร์ตวันนี้รับทองคำน้ำหนัก2.5กรัม\",\n",
    "               \"เพจเฟซบุ๊กเปิดขายSET50กองทุนรวมทองคำไทยราคาเปิดพอร์ต999บาทและ3999บาทความเสี่ยงต่ำลงทุนครั้งเดียวปันผลไม่หมดอายุ\",\n",
    "               \"วิธีรักษามะเร็งให้หายได้ไม่ให้ทำคีโมแต่ให้กำหนดลมหายใจตัวเองและกินอาหารที่ไม่เป็นกรด\"               \n",
    "               ]\n",
    "\n",
    "# Defining prediction function\n",
    "def predict_spam(predict_msg):\n",
    "    TfidfVectorizer(preprocessor=dummy, tokenizer=dummy),\n",
    "    TfidfTransformer(),\n",
    "    word_tokenize(predict_msg, engine=\"newmm\"),\n",
    "    return (SVM_clf.predict(predict_msg))\n",
    "predict_spam(predict_msg)\n",
    "\n",
    "summary = predict_spam(predict_msg)\n",
    "count = Counter(summary)\n",
    "print(\"Output:\", predict_spam(predict_msg), \" => \", count)"
   ]
  },
  {
   "cell_type": "code",
   "execution_count": 86,
   "metadata": {},
   "outputs": [
    {
     "data": {
      "image/png": "[encoded data removed]",
      "text/plain": [
       "<Figure size 1000x1000 with 2 Axes>"
      ]
     },
     "metadata": {},
     "output_type": "display_data"
    }
   ],
   "source": [
    "# Heatmap visualization\n",
    "\n",
    "conf_mat = confusion_matrix(y_test, SVM_clf.predict(X_test))\n",
    "fig, ax = plt.subplots(figsize=(10,10))\n",
    "sns.heatmap(conf_mat, annot=True, fmt=\"d\",\n",
    "            xticklabels=class_names, yticklabels=class_names)\n",
    "plt.ylabel(\"Actual\")\n",
    "plt.xlabel(\"Predicted\")\n",
    "plt.show()"
   ]
  },
  {
   "cell_type": "code",
   "execution_count": 87,
   "metadata": {},
   "outputs": [
    {
     "data": {
      "image/png": "[encoded data removed]",
      "text/plain": [
       "<Figure size 640x480 with 1 Axes>"
      ]
     },
     "metadata": {},
     "output_type": "display_data"
    }
   ],
   "source": [
    "y_pred_proba = SVM_clf.predict_proba(X_test)[::,1]\n",
    "y_test = y_test.map({'spam': 1, 'ham': 0}).astype(int)\n",
    "fpr, tpr, thresholds = metrics.roc_curve(y_test, y_pred_proba)\n",
    "auc = metrics.roc_auc_score(y_test, y_pred_proba)\n",
    "plt.plot(fpr,tpr, label=\"SVC, auc=\"+str(auc))\n",
    "\n",
    "plt.legend(loc=4)\n",
    "plt.show()"
   ]
  },
  {
   "cell_type": "code",
   "execution_count": 88,
   "metadata": {},
   "outputs": [
    {
     "data": {
      "image/png": "[encoded data removed]",
      "text/plain": [
       "<Figure size 640x480 with 1 Axes>"
      ]
     },
     "metadata": {},
     "output_type": "display_data"
    }
   ],
   "source": [
    "from sklearn.metrics import roc_curve\n",
    "from matplotlib import pyplot\n",
    "\n",
    "ns_probs = [0 for _ in range(len(y_test))]\n",
    "lr_probs = SVM_clf.predict_proba(X_test)[::,1]\n",
    "\n",
    "# calculate roc curves\n",
    "ns_fpr, ns_tpr, _ = roc_curve(y_test, ns_probs)\n",
    "lr_fpr, lr_tpr, _ = roc_curve(y_test, lr_probs)\n",
    "\n",
    "plt.title(\"Test SVM\")\n",
    "pyplot.plot(ns_fpr, ns_tpr, linestyle='--')\n",
    "pyplot.plot(lr_fpr, lr_tpr, label=\"auc=\"+str(auc))\n",
    "\n",
    "# axis labels\n",
    "pyplot.xlabel('False Positive Rate')\n",
    "pyplot.ylabel('True Positive Rate')\n",
    "\n",
    "# show the legend\n",
    "pyplot.legend()\n",
    "\n",
    "# show the plot\n",
    "pyplot.show()"
   ]
  },
  {
   "attachments": {},
   "cell_type": "markdown",
   "metadata": {},
   "source": [
    "### Pickle model ###"
   ]
  },
  {
   "cell_type": "code",
   "execution_count": 89,
   "metadata": {},
   "outputs": [
    {
     "name": "stdout",
     "output_type": "stream",
     "text": [
      "CPU times: user 3.16 s, sys: 122 ms, total: 3.28 s\n",
      "Wall time: 3.17 s\n"
     ]
    }
   ],
   "source": [
    "import pickle\n",
    "\n",
    "def dummy(obj: Any) -> Any:\n",
    "    return obj\n",
    "\n",
    "SVM_clf = make_pipeline(\n",
    "    CountVectorizer(preprocessor=process_text, tokenizer=dummy, lowercase=False, ngram_range = (1, 2)),\n",
    "    TfidfTransformer(norm='l1'),\n",
    "    StandardScaler(with_mean=False),\n",
    "    MaxAbsScaler(),\n",
    "    SVC(kernel = 'sigmoid', C=10, class_weight=None, probability=True)\n",
    ")\n",
    "\n",
    "%time SVM_clf.fit(X_train, y_train)\n",
    "\n",
    "with open('pkl/SVM.pkl', 'wb') as file:\n",
    "    pickle.dump(SVM_clf, file)"
   ]
  }
 ],
 "metadata": {
  "kernelspec": {
   "display_name": "Python 3",
   "language": "python",
   "name": "python3"
  },
  "language_info": {
   "codemirror_mode": {
    "name": "ipython",
    "version": 3
   },
   "file_extension": ".py",
   "mimetype": "text/x-python",
   "name": "python",
   "nbconvert_exporter": "python",
   "pygments_lexer": "ipython3",
   "version": "3.9.13"
  },
  "orig_nbformat": 4,
  "vscode": {
   "interpreter": {
    "hash": "75e8eb0781b8fafa2233c27c5a9b9ae7b2925affab6a9c8e68e342492558c677"
   }
  }
 },
 "nbformat": 4,
 "nbformat_minor": 2
}
